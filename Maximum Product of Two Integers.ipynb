{
 "cells": [
  {
   "cell_type": "code",
   "execution_count": 3,
   "id": "fee2cb20",
   "metadata": {},
   "outputs": [
    {
     "name": "stdout",
     "output_type": "stream",
     "text": [
      "80,100\n",
      "8000\n"
     ]
    }
   ],
   "source": [
    "import numpy as np\n",
    "myArray = np.array([1,20,3,40,5,60,7,80,9,100])\n",
    "\n",
    "def findMaxProduct(array):\n",
    "    maxProduct = 0\n",
    "    for i in range(len(array)):\n",
    "        for j in range(i+1, len(array)):\n",
    "            if array[i] * array[j] > maxProduct:\n",
    "                maxProduct = array[i] * array[j]\n",
    "                pairs = str(array[i]) + \",\" + str(array[j])\n",
    "    print(pairs)\n",
    "    print(maxProduct)\n",
    "    \n",
    "findMaxProduct(myArray)"
   ]
  },
  {
   "cell_type": "code",
   "execution_count": null,
   "id": "cc90fdf8",
   "metadata": {},
   "outputs": [],
   "source": []
  }
 ],
 "metadata": {
  "kernelspec": {
   "display_name": "Python 3 (ipykernel)",
   "language": "python",
   "name": "python3"
  },
  "language_info": {
   "codemirror_mode": {
    "name": "ipython",
    "version": 3
   },
   "file_extension": ".py",
   "mimetype": "text/x-python",
   "name": "python",
   "nbconvert_exporter": "python",
   "pygments_lexer": "ipython3",
   "version": "3.9.12"
  }
 },
 "nbformat": 4,
 "nbformat_minor": 5
}
