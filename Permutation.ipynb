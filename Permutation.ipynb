{
 "cells": [
  {
   "cell_type": "code",
   "execution_count": 2,
   "id": "5dbddc85",
   "metadata": {},
   "outputs": [
    {
     "name": "stdout",
     "output_type": "stream",
     "text": [
      "True\n"
     ]
    }
   ],
   "source": [
    "def permutation(list1, list2):\n",
    "    if len(list1) != len(list2):\n",
    "        return False\n",
    "    list1.sort()\n",
    "    list2.sort()\n",
    "    if list1 == list2:\n",
    "        return True\n",
    "    else:\n",
    "        return False\n",
    "\n",
    "list1 = [1,2,3,4,5]\n",
    "list2 = [5,4,3,2,1]\n",
    "print(permutation(list1, list2))"
   ]
  },
  {
   "cell_type": "code",
   "execution_count": null,
   "id": "f08b4a18",
   "metadata": {},
   "outputs": [],
   "source": []
  }
 ],
 "metadata": {
  "kernelspec": {
   "display_name": "Python 3 (ipykernel)",
   "language": "python",
   "name": "python3"
  },
  "language_info": {
   "codemirror_mode": {
    "name": "ipython",
    "version": 3
   },
   "file_extension": ".py",
   "mimetype": "text/x-python",
   "name": "python",
   "nbconvert_exporter": "python",
   "pygments_lexer": "ipython3",
   "version": "3.9.12"
  }
 },
 "nbformat": 4,
 "nbformat_minor": 5
}
