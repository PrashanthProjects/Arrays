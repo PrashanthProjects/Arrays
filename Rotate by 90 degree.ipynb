{
 "cells": [
  {
   "cell_type": "code",
   "execution_count": 2,
   "id": "a0991a81",
   "metadata": {},
   "outputs": [
    {
     "name": "stdout",
     "output_type": "stream",
     "text": [
      "[[1 2 3]\n",
      " [4 5 6]\n",
      " [7 8 9]]\n",
      "[[7 4 1]\n",
      " [8 5 2]\n",
      " [9 6 3]]\n"
     ]
    }
   ],
   "source": [
    "import numpy as np\n",
    "\n",
    "myArray = np.array([[1,2,3],[4,5,6],[7,8,9]])\n",
    "\n",
    "print(myArray)\n",
    "\n",
    "def rotateMatrix(matrix):\n",
    "    n = len(matrix)\n",
    "    for layer in range(n//2):\n",
    "        first = layer\n",
    "        last = n - layer - 1\n",
    "        for i in range(first, last):\n",
    "            top = matrix[layer][i]\n",
    "            matrix[layer][i] = matrix[-i-1][layer]\n",
    "            matrix[-i-1][layer] = matrix[-layer-1][-i-1]\n",
    "            matrix[-layer-1][-i-1] = matrix[i][-layer-1]\n",
    "            matrix[i][-layer-1] = top\n",
    "        return matrix\n",
    "print(rotateMatrix(myArray))"
   ]
  },
  {
   "cell_type": "code",
   "execution_count": null,
   "id": "81bd3cb7",
   "metadata": {},
   "outputs": [],
   "source": []
  }
 ],
 "metadata": {
  "kernelspec": {
   "display_name": "Python 3 (ipykernel)",
   "language": "python",
   "name": "python3"
  },
  "language_info": {
   "codemirror_mode": {
    "name": "ipython",
    "version": 3
   },
   "file_extension": ".py",
   "mimetype": "text/x-python",
   "name": "python",
   "nbconvert_exporter": "python",
   "pygments_lexer": "ipython3",
   "version": "3.9.12"
  }
 },
 "nbformat": 4,
 "nbformat_minor": 5
}
