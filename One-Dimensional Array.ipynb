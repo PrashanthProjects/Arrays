{
 "cells": [
  {
   "cell_type": "code",
   "execution_count": 4,
   "id": "e389c7d0",
   "metadata": {},
   "outputs": [],
   "source": [
    "from array import *"
   ]
  },
  {
   "cell_type": "markdown",
   "id": "56ba484a",
   "metadata": {},
   "source": [
    "# Create an Array and Traverse"
   ]
  },
  {
   "cell_type": "code",
   "execution_count": 5,
   "id": "2646db77",
   "metadata": {},
   "outputs": [
    {
     "name": "stdout",
     "output_type": "stream",
     "text": [
      "1\n",
      "2\n",
      "3\n",
      "4\n",
      "5\n"
     ]
    }
   ],
   "source": [
    "one_array = array(\"i\",[1,2,3,4,5])\n",
    "for i in one_array:\n",
    "    print(i)"
   ]
  },
  {
   "cell_type": "markdown",
   "id": "4630f5b2",
   "metadata": {},
   "source": [
    "# Access individual elements through indexes"
   ]
  },
  {
   "cell_type": "code",
   "execution_count": 6,
   "id": "85fa8682",
   "metadata": {},
   "outputs": [
    {
     "name": "stdout",
     "output_type": "stream",
     "text": [
      "3\n"
     ]
    }
   ],
   "source": [
    "print(one_array[2])"
   ]
  },
  {
   "cell_type": "markdown",
   "id": "3b489081",
   "metadata": {},
   "source": [
    "# Append any value to the array using append() method"
   ]
  },
  {
   "cell_type": "code",
   "execution_count": 7,
   "id": "e726ac88",
   "metadata": {},
   "outputs": [
    {
     "name": "stdout",
     "output_type": "stream",
     "text": [
      "array('i', [1, 2, 3, 4, 5, 6])\n"
     ]
    }
   ],
   "source": [
    "one_array.append(6)\n",
    "print(one_array)"
   ]
  },
  {
   "cell_type": "markdown",
   "id": "bf8c903f",
   "metadata": {},
   "source": [
    "# Insert Value in an array using insert() method"
   ]
  },
  {
   "cell_type": "code",
   "execution_count": 8,
   "id": "05af2e7f",
   "metadata": {},
   "outputs": [
    {
     "name": "stdout",
     "output_type": "stream",
     "text": [
      "array('i', [-1, 1, 2, 3, 4, 5, 6])\n"
     ]
    }
   ],
   "source": [
    "one_array.insert(0,-1)\n",
    "print(one_array)"
   ]
  },
  {
   "cell_type": "markdown",
   "id": "f0e7752e",
   "metadata": {},
   "source": [
    "# Extend an array using extend() method"
   ]
  },
  {
   "cell_type": "code",
   "execution_count": 10,
   "id": "1943a977",
   "metadata": {},
   "outputs": [
    {
     "name": "stdout",
     "output_type": "stream",
     "text": [
      "array('i', [-1, 1, 2, 3, 4, 5, 6, 7, 8, 9, 10])\n"
     ]
    }
   ],
   "source": [
    "one_array1 = array(\"i\",[7,8,9,10])\n",
    "one_array.extend(one_array1)\n",
    "print(one_array)"
   ]
  },
  {
   "cell_type": "markdown",
   "id": "570afc97",
   "metadata": {},
   "source": [
    "# Add items from list to array using fromlist() method"
   ]
  },
  {
   "cell_type": "code",
   "execution_count": 11,
   "id": "b20f16b0",
   "metadata": {},
   "outputs": [
    {
     "name": "stdout",
     "output_type": "stream",
     "text": [
      "array('i', [-1, 1, 2, 3, 4, 5, 6, 7, 8, 9, 10, 11, 12, 13])\n"
     ]
    }
   ],
   "source": [
    "list = [11,12,13]\n",
    "one_array.fromlist(list)\n",
    "print(one_array)"
   ]
  },
  {
   "cell_type": "markdown",
   "id": "58ba1a93",
   "metadata": {},
   "source": [
    "# Remove an array element using remove() method"
   ]
  },
  {
   "cell_type": "code",
   "execution_count": 12,
   "id": "042ce845",
   "metadata": {},
   "outputs": [
    {
     "name": "stdout",
     "output_type": "stream",
     "text": [
      "array('i', [1, 2, 3, 4, 5, 6, 7, 8, 9, 10, 11, 12, 13])\n"
     ]
    }
   ],
   "source": [
    "one_array.remove(-1)\n",
    "print(one_array)"
   ]
  },
  {
   "cell_type": "markdown",
   "id": "7f024e3e",
   "metadata": {},
   "source": [
    "# Remove last element using pop() method"
   ]
  },
  {
   "cell_type": "code",
   "execution_count": 13,
   "id": "0664f3b5",
   "metadata": {},
   "outputs": [
    {
     "name": "stdout",
     "output_type": "stream",
     "text": [
      "array('i', [1, 2, 3, 4, 5, 6, 7, 8, 9, 10, 11, 12])\n"
     ]
    }
   ],
   "source": [
    "one_array.pop()\n",
    "print(one_array)"
   ]
  },
  {
   "cell_type": "markdown",
   "id": "c3260a04",
   "metadata": {},
   "source": [
    "# Fetch any element index using index() method"
   ]
  },
  {
   "cell_type": "code",
   "execution_count": 17,
   "id": "7c0060d9",
   "metadata": {},
   "outputs": [
    {
     "name": "stdout",
     "output_type": "stream",
     "text": [
      "6\n"
     ]
    }
   ],
   "source": [
    "print(one_array.index(7))"
   ]
  },
  {
   "cell_type": "markdown",
   "id": "44dd12b4",
   "metadata": {},
   "source": [
    "# Reverse an array using reverse() method"
   ]
  },
  {
   "cell_type": "code",
   "execution_count": 18,
   "id": "02ef36b8",
   "metadata": {},
   "outputs": [
    {
     "name": "stdout",
     "output_type": "stream",
     "text": [
      "array('i', [12, 11, 10, 9, 8, 7, 6, 5, 4, 3, 2, 1])\n"
     ]
    }
   ],
   "source": [
    "one_array.reverse()\n",
    "print(one_array)"
   ]
  },
  {
   "cell_type": "markdown",
   "id": "f224663f",
   "metadata": {},
   "source": [
    "# Buffer information using buffer_info() method"
   ]
  },
  {
   "cell_type": "code",
   "execution_count": 19,
   "id": "c96abd85",
   "metadata": {},
   "outputs": [
    {
     "data": {
      "text/plain": [
       "(1843618595568, 12)"
      ]
     },
     "execution_count": 19,
     "metadata": {},
     "output_type": "execute_result"
    }
   ],
   "source": [
    "one_array.buffer_info()"
   ]
  },
  {
   "cell_type": "markdown",
   "id": "997b7a63",
   "metadata": {},
   "source": [
    "# Number of occurances of an element using count() method"
   ]
  },
  {
   "cell_type": "code",
   "execution_count": 20,
   "id": "39e9dc98",
   "metadata": {},
   "outputs": [
    {
     "data": {
      "text/plain": [
       "1"
      ]
     },
     "execution_count": 20,
     "metadata": {},
     "output_type": "execute_result"
    }
   ],
   "source": [
    "one_array.count(10)"
   ]
  },
  {
   "cell_type": "markdown",
   "id": "58bd5208",
   "metadata": {},
   "source": [
    "# Slice elements in an array"
   ]
  },
  {
   "cell_type": "code",
   "execution_count": 23,
   "id": "57c976f8",
   "metadata": {},
   "outputs": [
    {
     "data": {
      "text/plain": [
       "array('i', [11, 10, 9])"
      ]
     },
     "execution_count": 23,
     "metadata": {},
     "output_type": "execute_result"
    }
   ],
   "source": [
    "one_array[1:4]"
   ]
  },
  {
   "cell_type": "code",
   "execution_count": null,
   "id": "23cfc93b",
   "metadata": {},
   "outputs": [],
   "source": []
  }
 ],
 "metadata": {
  "kernelspec": {
   "display_name": "Python 3 (ipykernel)",
   "language": "python",
   "name": "python3"
  },
  "language_info": {
   "codemirror_mode": {
    "name": "ipython",
    "version": 3
   },
   "file_extension": ".py",
   "mimetype": "text/x-python",
   "name": "python",
   "nbconvert_exporter": "python",
   "pygments_lexer": "ipython3",
   "version": "3.9.12"
  }
 },
 "nbformat": 4,
 "nbformat_minor": 5
}
