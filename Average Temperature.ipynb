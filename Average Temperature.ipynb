{
 "cells": [
  {
   "cell_type": "code",
   "execution_count": 1,
   "id": "fdb17019",
   "metadata": {},
   "outputs": [
    {
     "name": "stdout",
     "output_type": "stream",
     "text": [
      "How many day's temperature? 3\n",
      "Day1's high temp: 28\n",
      "Day2's high temp: 29\n",
      "Day3's high temp: 30\n",
      "\n",
      "Average = 29.0\n",
      "1day(s) above average\n"
     ]
    }
   ],
   "source": [
    "numDays = int(input(\"How many day's temperature? \"))\n",
    "total = 0\n",
    "temp = []\n",
    "\n",
    "for i in range(numDays):\n",
    "    nextDay = int(input(\"Day\" + str(i+1) + \"'s high temp: \"))\n",
    "    temp.append(nextDay)\n",
    "    total += temp[i]\n",
    "\n",
    "avg = round(total/numDays, 2)\n",
    "print(\"\\nAverage = \" + str(avg)) \n",
    "\n",
    "above = 0\n",
    "for i in temp:\n",
    "    if i>avg:\n",
    "        above += 1\n",
    "\n",
    "print(str(above) + \"day(s) above average\")"
   ]
  },
  {
   "cell_type": "code",
   "execution_count": null,
   "id": "3f257035",
   "metadata": {},
   "outputs": [],
   "source": []
  }
 ],
 "metadata": {
  "kernelspec": {
   "display_name": "Python 3 (ipykernel)",
   "language": "python",
   "name": "python3"
  },
  "language_info": {
   "codemirror_mode": {
    "name": "ipython",
    "version": 3
   },
   "file_extension": ".py",
   "mimetype": "text/x-python",
   "name": "python",
   "nbconvert_exporter": "python",
   "pygments_lexer": "ipython3",
   "version": "3.9.12"
  }
 },
 "nbformat": 4,
 "nbformat_minor": 5
}
