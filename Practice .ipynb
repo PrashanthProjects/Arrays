{
 "cells": [
  {
   "cell_type": "markdown",
   "id": "74ea501e",
   "metadata": {},
   "source": [
    "# MIDDLE FUNCTION"
   ]
  },
  {
   "cell_type": "code",
   "execution_count": 1,
   "id": "a2b540bf",
   "metadata": {},
   "outputs": [
    {
     "data": {
      "text/plain": [
       "[2, 3]"
      ]
     },
     "execution_count": 1,
     "metadata": {},
     "output_type": "execute_result"
    }
   ],
   "source": [
    "def middle(lst):\n",
    "    new = lst[1:]  \n",
    "    del new[-1]\n",
    "    return new\n",
    "\n",
    "middle([1,2,3,4])"
   ]
  },
  {
   "cell_type": "markdown",
   "id": "fc71ad0f",
   "metadata": {},
   "source": [
    "# 2D LISTS"
   ]
  },
  {
   "cell_type": "code",
   "execution_count": 2,
   "id": "b650a207",
   "metadata": {},
   "outputs": [
    {
     "data": {
      "text/plain": [
       "15"
      ]
     },
     "execution_count": 2,
     "metadata": {},
     "output_type": "execute_result"
    }
   ],
   "source": [
    "def sumDiagonal(a):\n",
    "    sum = 0\n",
    "    for i in range(len(a)):\n",
    "        sum += a[i][i]\n",
    "    return sum\n",
    "\n",
    "sumDiagonal([[1,2,3],[4,5,6],[7,8,9]])"
   ]
  },
  {
   "cell_type": "markdown",
   "id": "ad32d73c",
   "metadata": {},
   "source": [
    "# BEST SCORE"
   ]
  },
  {
   "cell_type": "code",
   "execution_count": 4,
   "id": "d144e367",
   "metadata": {},
   "outputs": [
    {
     "name": "stdout",
     "output_type": "stream",
     "text": [
      "[10, 9, 8, 7, 6, 5, 4, 3, 2, 1]\n"
     ]
    },
    {
     "data": {
      "text/plain": [
       "(10, 9)"
      ]
     },
     "execution_count": 4,
     "metadata": {},
     "output_type": "execute_result"
    }
   ],
   "source": [
    "def firstSecond(given_list):\n",
    " \n",
    "    a = given_list   #make a copy\n",
    " \n",
    "    a.sort(reverse=True)\n",
    " \n",
    "    print(a)\n",
    " \n",
    "    first = a[0]\n",
    " \n",
    "    second = None\n",
    " \n",
    "    for element in given_list:\n",
    " \n",
    "        if element != first:\n",
    " \n",
    "            second = element\n",
    " \n",
    "            return first, second\n",
    "\n",
    "firstSecond([1,2,3,4,5,6,7,8,9,10])"
   ]
  },
  {
   "cell_type": "markdown",
   "id": "8995deaa",
   "metadata": {},
   "source": [
    "# MISSING NUMBER"
   ]
  },
  {
   "cell_type": "code",
   "execution_count": 7,
   "id": "2f72586b",
   "metadata": {},
   "outputs": [
    {
     "data": {
      "text/plain": [
       "5"
      ]
     },
     "execution_count": 7,
     "metadata": {},
     "output_type": "execute_result"
    }
   ],
   "source": [
    "def missingNumber(myList, totalCount):\n",
    "    expectedSum = totalCount * ((totalCount + 1) / 2)\n",
    "    actualSum = 0\n",
    "    for i in myList:\n",
    "        actualSum += i\n",
    "    return int(expectedSum - actualSum)\n",
    "\n",
    "missingNumber([1,2,3,4,6], 6)"
   ]
  },
  {
   "cell_type": "markdown",
   "id": "a5039131",
   "metadata": {},
   "source": [
    "# DUPLICATE NUMBER"
   ]
  },
  {
   "cell_type": "code",
   "execution_count": 9,
   "id": "991a9acc",
   "metadata": {},
   "outputs": [
    {
     "data": {
      "text/plain": [
       "[1, 2, 3, 4, 5]"
      ]
     },
     "execution_count": 9,
     "metadata": {},
     "output_type": "execute_result"
    }
   ],
   "source": [
    "def removeDuplicates(myList):\n",
    "    new_list=[]\n",
    "\n",
    "    for i in myList:\n",
    "\n",
    "        if i not in new_list:\n",
    "\n",
    "            new_list.append(i)\n",
    "\n",
    "    return new_list\n",
    "\n",
    "removeDuplicates([1,2,3,4,5,4,2])"
   ]
  },
  {
   "cell_type": "markdown",
   "id": "e45766eb",
   "metadata": {},
   "source": [
    "# PAIRS"
   ]
  },
  {
   "cell_type": "code",
   "execution_count": 11,
   "id": "047bbe29",
   "metadata": {},
   "outputs": [
    {
     "data": {
      "text/plain": [
       "['1+4']"
      ]
     },
     "execution_count": 11,
     "metadata": {},
     "output_type": "execute_result"
    }
   ],
   "source": [
    "def pairSum(myList, sum):\n",
    "    result = []\n",
    "    for i in range(len(myList)):\n",
    "        for j in range(i+1,len(myList)):\n",
    "            if myList[i] + myList[j] == sum:\n",
    "                result.append(str(myList[i]) +\"+\"+ str(myList[j]))\n",
    "    return result\n",
    "\n",
    "pairSum([1,2,4], 5)"
   ]
  },
  {
   "cell_type": "code",
   "execution_count": null,
   "id": "1dd2f20b",
   "metadata": {},
   "outputs": [],
   "source": []
  }
 ],
 "metadata": {
  "kernelspec": {
   "display_name": "Python 3 (ipykernel)",
   "language": "python",
   "name": "python3"
  },
  "language_info": {
   "codemirror_mode": {
    "name": "ipython",
    "version": 3
   },
   "file_extension": ".py",
   "mimetype": "text/x-python",
   "name": "python",
   "nbconvert_exporter": "python",
   "pygments_lexer": "ipython3",
   "version": "3.9.12"
  }
 },
 "nbformat": 4,
 "nbformat_minor": 5
}
