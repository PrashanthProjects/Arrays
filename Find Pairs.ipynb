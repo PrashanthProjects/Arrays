{
 "cells": [
  {
   "cell_type": "code",
   "execution_count": 1,
   "id": "70f53865",
   "metadata": {},
   "outputs": [
    {
     "name": "stdout",
     "output_type": "stream",
     "text": [
      "0 6\n",
      "1 5\n",
      "2 4\n"
     ]
    }
   ],
   "source": [
    "def findPairs(nums, target):\n",
    "    for i in range(len(nums)):\n",
    "        for j in range(i+1, len(nums)):\n",
    "            if nums[i] == nums[j]:\n",
    "                continue\n",
    "            elif nums[i] + nums[j] == target:\n",
    "                print(i, j)\n",
    "\n",
    "myList = [0,1,2,3,4,5,6]\n",
    "findPairs(myList, 6)"
   ]
  },
  {
   "cell_type": "code",
   "execution_count": null,
   "id": "9e2f2e9c",
   "metadata": {},
   "outputs": [],
   "source": []
  }
 ],
 "metadata": {
  "kernelspec": {
   "display_name": "Python 3 (ipykernel)",
   "language": "python",
   "name": "python3"
  },
  "language_info": {
   "codemirror_mode": {
    "name": "ipython",
    "version": 3
   },
   "file_extension": ".py",
   "mimetype": "text/x-python",
   "name": "python",
   "nbconvert_exporter": "python",
   "pygments_lexer": "ipython3",
   "version": "3.9.12"
  }
 },
 "nbformat": 4,
 "nbformat_minor": 5
}
